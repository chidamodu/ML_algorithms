{
 "cells": [
  {
   "cell_type": "code",
   "execution_count": 1,
   "metadata": {
    "collapsed": true
   },
   "outputs": [],
   "source": [
    "from sklearn.datasets import load_iris\n",
    "from sklearn.model_selection import train_test_split\n",
    "from sklearn.neighbors import KNeighborsClassifier\n",
    "from sklearn import metrics\n"
   ]
  },
  {
   "cell_type": "code",
   "execution_count": 2,
   "metadata": {
    "collapsed": true
   },
   "outputs": [],
   "source": [
    "#To estimate model performance by splitting the dataset into training and testing sets using train_test_split\n",
    "\n",
    "irs=load_iris()\n",
    "\n",
    "X=irs.data\n",
    "y=irs.target\n",
    "\n"
   ]
  },
  {
   "cell_type": "code",
   "execution_count": 3,
   "metadata": {},
   "outputs": [
    {
     "name": "stdout",
     "output_type": "stream",
     "text": [
      "0.9736842105263158\n"
     ]
    }
   ],
   "source": [
    "#The model performance measured via accuracy\n",
    "X_train, X_test, y_train, y_test=train_test_split(X, y, random_state=4)\n",
    "knn=KNeighborsClassifier(n_neighbors=5)\n",
    "knn.fit(X_train, y_train)\n",
    "y_pred=knn.predict(X_test)\n",
    "print(metrics.accuracy_score(y_test, y_pred))"
   ]
  },
  {
   "cell_type": "code",
   "execution_count": 4,
   "metadata": {},
   "outputs": [
    {
     "name": "stdout",
     "output_type": "stream",
     "text": [
      "0.9473684210526315\n"
     ]
    }
   ],
   "source": [
    "#to verify how the testing accuracy varies according to which set of observation been chosen - as obvious it is from the result\n",
    "#the testing accuracy suffers from high variance issues. this is why testing accuracy is known as the high variance estimate\n",
    "#what if we ran the above cell using a random_state=3\n",
    "X_train, X_test, y_train, y_test=train_test_split(X, y, random_state=3)\n",
    "\n",
    "knn=KNeighborsClassifier(n_neighbors=5)\n",
    "knn.fit(X_train, y_train)\n",
    "y_pred=knn.predict(X_test)\n",
    "print(metrics.accuracy_score(y_test, y_pred))"
   ]
  },
  {
   "cell_type": "code",
   "execution_count": 7,
   "metadata": {},
   "outputs": [
    {
     "name": "stdout",
     "output_type": "stream",
     "text": [
      "Iteration Training set Testing set\n",
      "1, [ 5  6  7  8  9 10 11 12 13 14 15 16 17 18 19 20 21 22 23 24], [0 1 2 3 4]\n",
      "2, [ 0  1  2  3  4 10 11 12 13 14 15 16 17 18 19 20 21 22 23 24], [5 6 7 8 9]\n",
      "3, [ 0  1  2  3  4  5  6  7  8  9 15 16 17 18 19 20 21 22 23 24], [10 11 12 13 14]\n",
      "4, [ 0  1  2  3  4  5  6  7  8  9 10 11 12 13 14 20 21 22 23 24], [15 16 17 18 19]\n",
      "5, [ 0  1  2  3  4  5  6  7  8  9 10 11 12 13 14 15 16 17 18 19], [20 21 22 23 24]\n"
     ]
    }
   ],
   "source": [
    "#to demonstrate the splitting of a dataset with 25 observations into 5 folds\n",
    "from sklearn.cross_validation import KFold\n",
    "kf=KFold(25, n_folds=5, shuffle=False)\n",
    "\n",
    "#print the contents of each training and testing set\n",
    "print('{} {} {}'.format('Iteration', 'Training set', 'Testing set'))\n",
    "for iteration, data in enumerate(kf, start=1):\n",
    "    print('{}, {}, {}'.format(iteration, data[0], data[1]))"
   ]
  },
  {
   "cell_type": "code",
   "execution_count": 8,
   "metadata": {},
   "outputs": [
    {
     "name": "stdout",
     "output_type": "stream",
     "text": [
      "[0.91666667 1.         0.91666667 1.         1.         1.\n",
      " 1.         1.         1.         0.88888889]\n"
     ]
    }
   ],
   "source": [
    "#To select the best parameter for KNN via cross validation using the iris dataset\n",
    "#To use only the training data and get X and y for cross validation\n",
    "from sklearn.cross_validation import cross_val_score\n",
    "\n",
    "X_train, X_test, y_train, y_test=train_test_split(X, y, random_state=3)\n",
    "\n",
    "knn_cv=KNeighborsClassifier(n_neighbors=5)\n",
    "score_cv=cross_val_score(knn_cv, X_train, y_train, cv=10, scoring='accuracy')\n",
    "print(score_cv)"
   ]
  },
  {
   "cell_type": "code",
   "execution_count": 15,
   "metadata": {},
   "outputs": [
    {
     "name": "stdout",
     "output_type": "stream",
     "text": [
      "[0.953888888888889, 0.943888888888889, 0.9622222222222222, 0.953888888888889, 0.9722222222222221, 0.9705555555555556, 0.9705555555555556, 0.9705555555555556, 0.9705555555555556, 0.9522222222222224, 0.9705555555555556, 0.9605555555555556, 0.9522222222222222, 0.9605555555555556, 0.9622222222222222, 0.9605555555555556, 0.9622222222222222, 0.9605555555555556, 0.9522222222222222, 0.9431313131313133, 0.9522222222222222, 0.9431313131313133, 0.9431313131313133, 0.9514646464646466, 0.9514646464646466, 0.9431313131313133, 0.9605555555555556, 0.9597979797979799, 0.9605555555555556, 0.943888888888889]\n"
     ]
    }
   ],
   "source": [
    "#now onto searching for an optimal value for K (the number of folds in Kfold)\n",
    "k_val_range=range(1, 31)\n",
    "k_score=[]\n",
    "for element in k_val_range:\n",
    "    knn=KNeighborsClassifier(n_neighbors=element)\n",
    "    score=cross_val_score(knn, X_train, y_train, cv=10, scoring='accuracy')\n",
    "    k_score.append(score.mean())\n",
    "print(k_score)"
   ]
  },
  {
   "cell_type": "code",
   "execution_count": 16,
   "metadata": {},
   "outputs": [
    {
     "data": {
      "text/plain": [
       "<matplotlib.text.Text at 0x10747b0b8>"
      ]
     },
     "execution_count": 16,
     "metadata": {},
     "output_type": "execute_result"
    },
    {
     "data": {
      "image/png": "[encoded data removed]",
      "text/plain": [
       "<matplotlib.figure.Figure at 0x1074610b8>"
      ]
     },
     "metadata": {},
     "output_type": "display_data"
    }
   ],
   "source": [
    "#From the below plot it can be seen that the optimum accuracy is achieved when k ranges from 5 to 9 and at 11. choosing K depends on the situation and the context of business problem. If high variance can be tolerated then we can choose K=11, but if low variance is preferred then we can choose lower values for K in this example K=5 \n",
    "#but regardless of the values for K we are going for high accuracy\n",
    "import matplotlib.pyplot as plt\n",
    "%matplotlib inline\n",
    "\n",
    "#plot the cross_validated accuracy on y_axis for every value of k on x_axis\n",
    "plt.plot(k_val_range, k_score)\n",
    "plt.xlabel(\"Value of K for KNN\")\n",
    "plt.ylabel(\"Cross_validated accuracy\")"
   ]
  },
  {
   "cell_type": "code",
   "execution_count": 17,
   "metadata": {},
   "outputs": [
    {
     "name": "stdout",
     "output_type": "stream",
     "text": [
      "0.9705555555555556\n"
     ]
    }
   ],
   "source": [
    "#To select the best model amongst options using cross validation\n",
    "#KNN Vs. logistic regression\n",
    "# Although from cross validation it appeared that KNeighborsClassifier had high accuracy, but after scoring each model on \n",
    "# the test data it is clear that the Logistic Regression has scored high accuracy. Thus the cross validated score may not be the right\n",
    "# representation of the out-of-sample accuracy estimate and it is important to test the accuracy of the models on test data to pick the best model\n",
    "\n",
    "#k-fold cross validation to choose the best approximation to the out-of-sample accuracy using KNN\n",
    "knn_1=KNeighborsClassifier(n_neighbors=11)#I am choosing k=11 from the above cell. although the result is inconclusive, I am going for higher value for K\n",
    "print(cross_val_score(knn_1, X_train, y_train, cv=10, scoring='accuracy').mean())\n",
    "\n"
   ]
  },
  {
   "cell_type": "code",
   "execution_count": 22,
   "metadata": {},
   "outputs": [
    {
     "data": {
      "text/plain": [
       "KNeighborsClassifier(algorithm='auto', leaf_size=30, metric='minkowski',\n",
       "           metric_params=None, n_jobs=1, n_neighbors=11, p=2,\n",
       "           weights='uniform')"
      ]
     },
     "execution_count": 22,
     "metadata": {},
     "output_type": "execute_result"
    }
   ],
   "source": [
    "knn_1.fit(X_train, y_train)\n"
   ]
  },
  {
   "cell_type": "code",
   "execution_count": 23,
   "metadata": {},
   "outputs": [
    {
     "data": {
      "text/plain": [
       "0.9736842105263158"
      ]
     },
     "execution_count": 23,
     "metadata": {},
     "output_type": "execute_result"
    }
   ],
   "source": [
    "knn_1.score(X_test, y_test)"
   ]
  },
  {
   "cell_type": "code",
   "execution_count": 19,
   "metadata": {},
   "outputs": [
    {
     "name": "stdout",
     "output_type": "stream",
     "text": [
      "0.9447979797979797\n"
     ]
    }
   ],
   "source": [
    "#k-fold cross validation to choose the best approximation to the out-of-sample accuracy using logistic regression\n",
    "from sklearn.linear_model import LogisticRegression\n",
    "logreg=LogisticRegression()\n",
    "dragon=cross_val_score(logreg, X_train, y_train, cv=10, scoring='accuracy')\n",
    "print(dragon.mean())\n",
    "\n"
   ]
  },
  {
   "cell_type": "code",
   "execution_count": 21,
   "metadata": {},
   "outputs": [
    {
     "data": {
      "text/plain": [
       "1.0"
      ]
     },
     "execution_count": 21,
     "metadata": {},
     "output_type": "execute_result"
    }
   ],
   "source": [
    "#To test the Logistic Regression model's performance on the untouched test data\n",
    "\n",
    "#to figure out: what happens after this cross_val_score and also to verify what I have done below by fitting logreg and have found the score is correct or not?\n",
    "alum=logreg.fit(X_train, y_train)\n",
    "\n",
    "alum.score(X_test, y_test)"
   ]
  },
  {
   "cell_type": "code",
   "execution_count": 24,
   "metadata": {
    "collapsed": true
   },
   "outputs": [],
   "source": [
    "#To select the best features using cross validation to fit a model \n",
    "\n",
    "#To decide whether to include the 'newspaper' as a feature in fitting a linear model to the dataset"
   ]
  },
  {
   "cell_type": "code",
   "execution_count": 25,
   "metadata": {
    "collapsed": true
   },
   "outputs": [],
   "source": [
    "import pandas as pd\n",
    "import numpy as np\n",
    "from sklearn.linear_model import LinearRegression\n",
    "\n",
    "df=pd.read_csv('http://www-bcf.usc.edu/~gareth/ISL/Advertising.csv', index_col=0)"
   ]
  },
  {
   "cell_type": "code",
   "execution_count": 26,
   "metadata": {},
   "outputs": [
    {
     "data": {
      "text/html": [
       "<div>\n",
       "<style>\n",
       "    .dataframe thead tr:only-child th {\n",
       "        text-align: right;\n",
       "    }\n",
       "\n",
       "    .dataframe thead th {\n",
       "        text-align: left;\n",
       "    }\n",
       "\n",
       "    .dataframe tbody tr th {\n",
       "        vertical-align: top;\n",
       "    }\n",
       "</style>\n",
       "<table border=\"1\" class=\"dataframe\">\n",
       "  <thead>\n",
       "    <tr style=\"text-align: right;\">\n",
       "      <th></th>\n",
       "      <th>TV</th>\n",
       "      <th>radio</th>\n",
       "      <th>newspaper</th>\n",
       "      <th>sales</th>\n",
       "    </tr>\n",
       "  </thead>\n",
       "  <tbody>\n",
       "    <tr>\n",
       "      <th>1</th>\n",
       "      <td>230.1</td>\n",
       "      <td>37.8</td>\n",
       "      <td>69.2</td>\n",
       "      <td>22.1</td>\n",
       "    </tr>\n",
       "    <tr>\n",
       "      <th>2</th>\n",
       "      <td>44.5</td>\n",
       "      <td>39.3</td>\n",
       "      <td>45.1</td>\n",
       "      <td>10.4</td>\n",
       "    </tr>\n",
       "    <tr>\n",
       "      <th>3</th>\n",
       "      <td>17.2</td>\n",
       "      <td>45.9</td>\n",
       "      <td>69.3</td>\n",
       "      <td>9.3</td>\n",
       "    </tr>\n",
       "    <tr>\n",
       "      <th>4</th>\n",
       "      <td>151.5</td>\n",
       "      <td>41.3</td>\n",
       "      <td>58.5</td>\n",
       "      <td>18.5</td>\n",
       "    </tr>\n",
       "    <tr>\n",
       "      <th>5</th>\n",
       "      <td>180.8</td>\n",
       "      <td>10.8</td>\n",
       "      <td>58.4</td>\n",
       "      <td>12.9</td>\n",
       "    </tr>\n",
       "  </tbody>\n",
       "</table>\n",
       "</div>"
      ],
      "text/plain": [
       "      TV  radio  newspaper  sales\n",
       "1  230.1   37.8       69.2   22.1\n",
       "2   44.5   39.3       45.1   10.4\n",
       "3   17.2   45.9       69.3    9.3\n",
       "4  151.5   41.3       58.5   18.5\n",
       "5  180.8   10.8       58.4   12.9"
      ]
     },
     "execution_count": 26,
     "metadata": {},
     "output_type": "execute_result"
    }
   ],
   "source": [
    "df.head()"
   ]
  },
  {
   "cell_type": "code",
   "execution_count": 28,
   "metadata": {
    "collapsed": true
   },
   "outputs": [],
   "source": [
    "col_include=['TV','radio','newspaper']\n",
    "\n",
    "X1=df[col_include]\n",
    "\n",
    "y1=df['sales']"
   ]
  },
  {
   "cell_type": "code",
   "execution_count": 35,
   "metadata": {
    "collapsed": true
   },
   "outputs": [],
   "source": [
    "X_train1, X_test1, y_train1, y_test1=train_test_split(X1, y1, random_state=4)"
   ]
  },
  {
   "cell_type": "code",
   "execution_count": 36,
   "metadata": {},
   "outputs": [
    {
     "name": "stdout",
     "output_type": "stream",
     "text": [
      "[-4.64817609 -2.44411865 -7.53220013 -1.64016756 -2.25359703 -3.36652418\n",
      " -2.01211011 -1.02656358 -5.89640739 -2.63707105]\n"
     ]
    }
   ],
   "source": [
    "#10-fold cross validation with all the three features in col_include\n",
    "lm=LinearRegression()\n",
    "lm_score=cross_val_score(lm, X_train1, y_train1, cv=10, scoring='neg_mean_squared_error')#it is now neg_mean_squared_error and no more mean_squared_error\n",
    "print(lm_score)"
   ]
  },
  {
   "cell_type": "code",
   "execution_count": 37,
   "metadata": {},
   "outputs": [
    {
     "name": "stdout",
     "output_type": "stream",
     "text": [
      "[4.64817609 2.44411865 7.53220013 1.64016756 2.25359703 3.36652418\n",
      " 2.01211011 1.02656358 5.89640739 2.63707105]\n"
     ]
    }
   ],
   "source": [
    "#To fix the negative signs of MSE score above\n",
    "mse_score=-lm_score\n",
    "print(mse_score)"
   ]
  },
  {
   "cell_type": "code",
   "execution_count": 38,
   "metadata": {},
   "outputs": [
    {
     "name": "stdout",
     "output_type": "stream",
     "text": [
      "[2.15596291 1.56336773 2.7444854  1.28069027 1.50119853 1.83480903\n",
      " 1.41848867 1.01319474 2.42825192 1.62390611]\n"
     ]
    }
   ],
   "source": [
    "#convert from mse to rmse(root mean squared value)\n",
    "import numpy as np\n",
    "rmse_score=np.sqrt(mse_score)\n",
    "print(rmse_score)"
   ]
  },
  {
   "cell_type": "code",
   "execution_count": 39,
   "metadata": {},
   "outputs": [
    {
     "name": "stdout",
     "output_type": "stream",
     "text": [
      "1.756435531395855\n"
     ]
    }
   ],
   "source": [
    "#To calculate the average of the rmse_score calculated above\n",
    "print(rmse_score.mean())"
   ]
  },
  {
   "cell_type": "code",
   "execution_count": 40,
   "metadata": {},
   "outputs": [
    {
     "name": "stdout",
     "output_type": "stream",
     "text": [
      "1.723583266116106\n"
     ]
    }
   ],
   "source": [
    "#to get another rmse value calculated without using the feature: 'newspaper'\n",
    "\n",
    "#since the goal of calculating rmse score is to reduce error or loss we choose the model with low rmse value and therefore\n",
    "#we pick the second linear regression model(below) that is fitted without the feature: 'newspaper'\n",
    "\n",
    "col_include_outnews=['TV','radio']\n",
    "\n",
    "X11=df[col_include_outnews]\n",
    "\n",
    "y11=df['sales']\n",
    "\n",
    "X_train11, X_test11, y_train11, y_test11=train_test_split(X11, y11, random_state=4)\n",
    "\n",
    "print(np.sqrt(-cross_val_score(lm, X_train11, y_train11, cv=10, scoring='neg_mean_squared_error')).mean())\n",
    "\n",
    "\n"
   ]
  },
  {
   "cell_type": "code",
   "execution_count": 64,
   "metadata": {
    "collapsed": true
   },
   "outputs": [],
   "source": [
    "#to calculate validation error along with training error(here validation error is not same as the test error)\n",
    "#For example, I am going to use the above calculation to find the validation error, which can give an idea about how well\n",
    "#the model can generalize on unseen data and therefore if further tweaking has to be done could be carried out before finding the testing error\n",
    "\n",
    "col_include_outnews=['TV','radio']\n",
    "\n",
    "X11=df[col_include_outnews]\n",
    "\n",
    "y11=df['sales']\n",
    "\n",
    "X_train11, X_test11, y_train11, y_test11=train_test_split(X11, y11, random_state=4)\n",
    "\n",
    "X_train11, X_valid11, y_train11, y_valid11=train_test_split(X_train11, y_train11, random_state=4)\n",
    "\n"
   ]
  },
  {
   "cell_type": "code",
   "execution_count": 94,
   "metadata": {},
   "outputs": [
    {
     "name": "stdout",
     "output_type": "stream",
     "text": [
      "   sales\n",
      "0   22.1\n",
      "   sales\n",
      "1   10.4\n",
      "   sales\n",
      "2    9.3\n",
      "   sales\n",
      "3   18.5\n",
      "   sales\n",
      "4   12.9\n",
      "   sales\n",
      "5    7.2\n",
      "   sales\n",
      "6   11.8\n",
      "   sales\n",
      "7   13.2\n",
      "   sales\n",
      "8    4.8\n",
      "   sales\n",
      "9   10.6\n",
      "    sales\n",
      "10    8.6\n",
      "    sales\n",
      "11   17.4\n",
      "    sales\n",
      "12    9.2\n",
      "    sales\n",
      "13    9.7\n",
      "    sales\n",
      "14   19.0\n",
      "    sales\n",
      "15   22.4\n",
      "    sales\n",
      "16   12.5\n",
      "    sales\n",
      "17   24.4\n",
      "    sales\n",
      "18   11.3\n",
      "    sales\n",
      "19   14.6\n",
      "    sales\n",
      "20   18.0\n",
      "    sales\n",
      "21   12.5\n",
      "    sales\n",
      "22    5.6\n",
      "    sales\n",
      "23   15.5\n",
      "    sales\n",
      "24    9.7\n",
      "    sales\n",
      "25   12.0\n",
      "    sales\n",
      "26   15.0\n",
      "    sales\n",
      "27   15.9\n",
      "    sales\n",
      "28   18.9\n",
      "    sales\n",
      "29   10.5\n",
      "    sales\n",
      "30   21.4\n",
      "    sales\n",
      "31   11.9\n",
      "    sales\n",
      "32    9.6\n",
      "    sales\n",
      "33   17.4\n",
      "    sales\n",
      "34    9.5\n",
      "    sales\n",
      "35   12.8\n",
      "    sales\n",
      "36   25.4\n",
      "    sales\n",
      "37   14.7\n",
      "    sales\n",
      "38   10.1\n",
      "    sales\n",
      "39   21.5\n",
      "    sales\n",
      "40   16.6\n",
      "    sales\n",
      "41   17.1\n",
      "    sales\n",
      "42   20.7\n",
      "    sales\n",
      "43   12.9\n",
      "    sales\n",
      "44    8.5\n",
      "    sales\n",
      "45   14.9\n",
      "    sales\n",
      "46   10.6\n",
      "    sales\n",
      "47   23.2\n",
      "    sales\n",
      "48   14.8\n",
      "    sales\n",
      "49    9.7\n",
      "    sales\n",
      "50   11.4\n",
      "    sales\n",
      "51   10.7\n",
      "    sales\n",
      "52   22.6\n",
      "    sales\n",
      "53   21.2\n",
      "    sales\n",
      "54   20.2\n",
      "    sales\n",
      "55   23.7\n",
      "    sales\n",
      "56    5.5\n",
      "    sales\n",
      "57   13.2\n",
      "    sales\n",
      "58   23.8\n",
      "    sales\n",
      "59   18.4\n",
      "    sales\n",
      "60    8.1\n",
      "    sales\n",
      "61   24.2\n",
      "    sales\n",
      "62   15.7\n",
      "    sales\n",
      "63   14.0\n",
      "    sales\n",
      "64   18.0\n",
      "    sales\n",
      "65    9.3\n",
      "    sales\n",
      "66    9.5\n",
      "    sales\n",
      "67   13.4\n",
      "    sales\n",
      "68   18.9\n",
      "    sales\n",
      "69   22.3\n",
      "    sales\n",
      "70   18.3\n",
      "    sales\n",
      "71   12.4\n",
      "    sales\n",
      "72    8.8\n",
      "    sales\n",
      "73   11.0\n",
      "    sales\n",
      "74   17.0\n",
      "    sales\n",
      "75    8.7\n",
      "    sales\n",
      "76    6.9\n",
      "    sales\n",
      "77   14.2\n",
      "    sales\n",
      "78    5.3\n",
      "    sales\n",
      "79   11.0\n",
      "    sales\n",
      "80   11.8\n",
      "    sales\n",
      "81   12.3\n",
      "    sales\n",
      "82   11.3\n",
      "    sales\n",
      "83   13.6\n",
      "    sales\n",
      "84   21.7\n",
      "    sales\n",
      "85   15.2\n",
      "    sales\n",
      "86   12.0\n",
      "    sales\n",
      "87   16.0\n",
      "    sales\n",
      "88   12.9\n",
      "    sales\n",
      "89   16.7\n",
      "    sales\n",
      "90   11.2\n",
      "    sales\n",
      "91    7.3\n",
      "    sales\n",
      "92   19.4\n",
      "    sales\n",
      "93   22.2\n",
      "    sales\n",
      "94   11.5\n",
      "    sales\n",
      "95   16.9\n",
      "    sales\n",
      "96   11.7\n",
      "    sales\n",
      "97   15.5\n",
      "    sales\n",
      "98   25.4\n",
      "    sales\n",
      "99   17.2\n",
      "     sales\n",
      "100   11.7\n",
      "     sales\n",
      "101   23.8\n",
      "     sales\n",
      "102   14.8\n",
      "     sales\n",
      "103   14.7\n",
      "     sales\n",
      "104   20.7\n",
      "     sales\n",
      "105   19.2\n",
      "     sales\n",
      "106    7.2\n",
      "     sales\n",
      "107    8.7\n",
      "     sales\n",
      "108    5.3\n",
      "     sales\n",
      "109   19.8\n",
      "     sales\n",
      "110   13.4\n",
      "     sales\n",
      "111   21.8\n",
      "     sales\n",
      "112   14.1\n",
      "     sales\n",
      "113   15.9\n",
      "     sales\n",
      "114   14.6\n",
      "     sales\n",
      "115   12.6\n",
      "     sales\n",
      "116   12.2\n",
      "     sales\n",
      "117    9.4\n",
      "     sales\n",
      "118   15.9\n",
      "     sales\n",
      "119    6.6\n",
      "     sales\n",
      "120   15.5\n",
      "     sales\n",
      "121    7.0\n",
      "     sales\n",
      "122   11.6\n",
      "     sales\n",
      "123   15.2\n",
      "     sales\n",
      "124   19.7\n",
      "     sales\n",
      "125   10.6\n",
      "     sales\n",
      "126    6.6\n",
      "     sales\n",
      "127    8.8\n",
      "     sales\n",
      "128   24.7\n",
      "     sales\n",
      "129    9.7\n",
      "     sales\n",
      "130    1.6\n",
      "     sales\n",
      "131   12.7\n",
      "     sales\n",
      "132    5.7\n",
      "     sales\n",
      "133   19.6\n",
      "     sales\n",
      "134   10.8\n",
      "     sales\n",
      "135   11.6\n",
      "     sales\n",
      "136    9.5\n",
      "     sales\n",
      "137   20.8\n",
      "     sales\n",
      "138    9.6\n",
      "     sales\n",
      "139   20.7\n",
      "     sales\n",
      "140   10.9\n",
      "     sales\n",
      "141   19.2\n",
      "     sales\n",
      "142   20.1\n",
      "     sales\n",
      "143   10.4\n",
      "     sales\n",
      "144   11.4\n",
      "     sales\n",
      "145   10.3\n",
      "     sales\n",
      "146   13.2\n",
      "     sales\n",
      "147   25.4\n",
      "     sales\n",
      "148   10.9\n",
      "     sales\n",
      "149   10.1\n",
      "     sales\n",
      "150   16.1\n",
      "     sales\n",
      "151   11.6\n",
      "     sales\n",
      "152   16.6\n",
      "     sales\n",
      "153   19.0\n",
      "     sales\n",
      "154   15.6\n",
      "     sales\n",
      "155    3.2\n",
      "     sales\n",
      "156   15.3\n",
      "     sales\n",
      "157   10.1\n",
      "     sales\n",
      "158    7.3\n",
      "     sales\n",
      "159   12.9\n",
      "     sales\n",
      "160   14.4\n",
      "     sales\n",
      "161   13.3\n",
      "     sales\n",
      "162   14.9\n",
      "     sales\n",
      "163   18.0\n",
      "     sales\n",
      "164   11.9\n",
      "     sales\n",
      "165   11.9\n",
      "     sales\n",
      "166    8.0\n",
      "     sales\n",
      "167   12.2\n",
      "     sales\n",
      "168   17.1\n",
      "     sales\n",
      "169   15.0\n",
      "     sales\n",
      "170    8.4\n",
      "     sales\n",
      "171   14.5\n",
      "     sales\n",
      "172    7.6\n",
      "     sales\n",
      "173   11.7\n",
      "     sales\n",
      "174   11.5\n",
      "     sales\n",
      "175   27.0\n",
      "     sales\n",
      "176   20.2\n",
      "     sales\n",
      "177   11.7\n",
      "     sales\n",
      "178   11.8\n",
      "     sales\n",
      "179   12.6\n",
      "     sales\n",
      "180   10.5\n",
      "     sales\n",
      "181   12.2\n",
      "     sales\n",
      "182    8.7\n",
      "     sales\n",
      "183   26.2\n",
      "     sales\n",
      "184   17.6\n",
      "     sales\n",
      "185   22.6\n",
      "     sales\n",
      "186   10.3\n",
      "     sales\n",
      "187   17.3\n",
      "     sales\n",
      "188   15.9\n",
      "     sales\n",
      "189    6.7\n",
      "     sales\n",
      "190   10.8\n",
      "     sales\n",
      "191    9.9\n",
      "     sales\n",
      "192    5.9\n",
      "     sales\n",
      "193   19.6\n",
      "     sales\n",
      "194   17.3\n",
      "     sales\n",
      "195    7.6\n",
      "     sales\n",
      "196    9.7\n",
      "     sales\n",
      "197   12.8\n",
      "     sales\n",
      "198   25.5\n",
      "     sales\n",
      "199   13.4\n"
     ]
    }
   ],
   "source": [
    "#Leave-One-Out cross validation\n",
    "col_include_outnews=['TV','radio']\n",
    "\n",
    "X11_loovc=df[col_include_outnews].reset_index().drop('index', axis=1)\n",
    "\n",
    "y11_loovc=df['sales'].reset_index().drop('index', axis=1)\n",
    "\n",
    "loo = LeaveOneOut()\n",
    "\n",
    "for train_index, test_index in loo.split(X11_loovc):\n",
    "    X_train1, X_test1 = X11_loovc.loc[train_index], X11_loovc.loc[test_index]\n",
    "    y_train1, y_test1 = y11_loovc.loc[train_index], y11_loovc.loc[test_index]\n",
    "    print(y_test1)#only one value is selected as test value for every corresponding row\n"
   ]
  }
 ],
 "metadata": {
  "kernelspec": {
   "display_name": "Python [conda root]",
   "language": "python",
   "name": "conda-root-py"
  },
  "language_info": {
   "codemirror_mode": {
    "name": "ipython",
    "version": 3
   },
   "file_extension": ".py",
   "mimetype": "text/x-python",
   "name": "python",
   "nbconvert_exporter": "python",
   "pygments_lexer": "ipython3",
   "version": "3.5.4"
  }
 },
 "nbformat": 4,
 "nbformat_minor": 2
}
